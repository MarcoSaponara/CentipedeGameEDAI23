{
 "cells": [
  {
   "cell_type": "code",
   "execution_count": 1,
   "id": "a9bd2ac0",
   "metadata": {},
   "outputs": [],
   "source": [
    "import sys\n",
    "sys.path.insert(0,'/Users/marcosaponara/Desktop/MY_CENTIPEDE_GAME/CODE/mysrc')"
   ]
  },
  {
   "cell_type": "code",
   "execution_count": 2,
   "id": "04c8169c",
   "metadata": {},
   "outputs": [],
   "source": [
    "import numpy as np\n",
    "import matplotlib.pyplot as plt\n",
    "from json import load\n",
    "\n",
    "from itertools import product\n",
    "from tqdm import tqdm\n",
    "\n",
    "from egttools.analytical import PairwiseComparison\n",
    "from egttools.games import Matrix2PlayerGameHolder\n",
    "from egttools.utils import calculate_stationary_distribution\n",
    "from egttools.plotting import draw_invasion_diagram\n",
    "\n",
    "from utils.centipedeGame import CentipedeGame\n",
    "from utils.kStrategy import KStrategy\n",
    "\n",
    "from utils.kernel import eps_kernel_sym as kernel"
   ]
  },
  {
   "cell_type": "code",
   "execution_count": 3,
   "id": "6c259b78",
   "metadata": {},
   "outputs": [],
   "source": [
    "from scipy.spatial.distance import jensenshannon\n",
    "\n",
    "def hellinger(p : np.ndarray, \n",
    "              q : np.ndarray,\n",
    "             ):\n",
    "    return np.sqrt(np.sum((np.sqrt(p) - np.sqrt(q)) ** 2, axis = -1)) / np.sqrt(2)"
   ]
  },
  {
   "cell_type": "code",
   "execution_count": 4,
   "id": "2d7bd35f",
   "metadata": {},
   "outputs": [],
   "source": [
    "with open('/Users/marcosaponara/Desktop/MY_CENTIPEDE_GAME/CODE/mysrc/data/data.json') as f:\n",
    "    data = load(f)"
   ]
  },
  {
   "cell_type": "code",
   "execution_count": 5,
   "id": "63629785",
   "metadata": {},
   "outputs": [],
   "source": [
    "GAMEID = 'icg6'"
   ]
  },
  {
   "cell_type": "code",
   "execution_count": 6,
   "id": "fd49241a",
   "metadata": {},
   "outputs": [],
   "source": [
    "icgdata = data['data'][GAMEID]\n",
    "\n",
    "nb_steps = icgdata['nb_steps']\n",
    "payoffs_pl1 = np.array(icgdata['payoffs_pl1'], dtype = float)\n",
    "payoffs_pl2 = np.array(icgdata['payoffs_pl2'], dtype = float)\n",
    "experimental_reference = np.array(icgdata['experimental_reference'], dtype = float)"
   ]
  },
  {
   "cell_type": "code",
   "execution_count": 7,
   "id": "02f4abf3",
   "metadata": {},
   "outputs": [],
   "source": [
    "nb_k_levels = nb_steps + 1\n",
    "k_levels = np.arange(nb_k_levels)"
   ]
  },
  {
   "cell_type": "code",
   "execution_count": 8,
   "id": "4fe5a856",
   "metadata": {},
   "outputs": [],
   "source": [
    "start = np.zeros(nb_steps+2, dtype = float)\n",
    "\n",
    "start[-1] = 1.\n",
    "start[nb_steps//2] = 1.\n",
    "\n",
    "start_arrays = np.array([\n",
    "                        start,\n",
    "                        ], dtype = float)\n",
    "\n",
    "start_k_pairs = list(product(start_arrays, k_levels))\n",
    "nb_strategies = len(start_k_pairs)"
   ]
  },
  {
   "cell_type": "code",
   "execution_count": 9,
   "id": "4f98533f",
   "metadata": {},
   "outputs": [],
   "source": [
    "# Parameters\n",
    "Z = 1000 # population size\n",
    "\n",
    "nb_beta_datapoints = 101\n",
    "betas = np.logspace(-4., 2., nb_beta_datapoints)\n",
    "\n",
    "gamma = 0.\n",
    "\n",
    "if GAMEID=='icg4':\n",
    "    eps = .09\n",
    "elif GAMEID=='icg6':\n",
    "    eps = .045"
   ]
  },
  {
   "cell_type": "code",
   "execution_count": 10,
   "id": "bb5a0a9e",
   "metadata": {},
   "outputs": [
    {
     "name": "stderr",
     "output_type": "stream",
     "text": [
      "100%|█████████████████████████████████████████| 101/101 [00:11<00:00,  8.99it/s]\n"
     ]
    }
   ],
   "source": [
    "ker = kernel(nb_steps, gamma, eps)\n",
    "\n",
    "strategy = KStrategy(ker)\n",
    "\n",
    "strategies = []\n",
    "for pair in start_k_pairs:\n",
    "    start, k = pair\n",
    "    strategies.append(strategy.calculate_mixed_strategy(k = k, start = start))\n",
    "strategies = np.array(strategies)\n",
    "nb_strategies = len(strategies)\n",
    "\n",
    "cg = CentipedeGame(payoffs_pl1, payoffs_pl2, strategies)\n",
    "game = Matrix2PlayerGameHolder(nb_strategies, cg.payoffs())\n",
    "evolver = PairwiseComparison(population_size=Z, game=game)\n",
    "\n",
    "sd = np.zeros((nb_beta_datapoints, nb_strategies), dtype = float)\n",
    "avg_take_distribution = np.zeros((nb_beta_datapoints, nb_steps+1), dtype = float)\n",
    "\n",
    "for i, beta in enumerate(tqdm(betas)):\n",
    "    transition_matrix, _ = evolver.calculate_transition_and_fixation_matrix_sml(beta)\n",
    "    sd[i,:] = calculate_stationary_distribution(transition_matrix.transpose())\n",
    "    avg_take_distribution[i,:] = sd[i,:] @ (sd[i,:] @ cg.get_take_distributions())\n",
    "\n",
    "rmse = np.sqrt(((avg_take_distribution - experimental_reference) ** 2).sum(axis = -1))\n",
    "js = jensenshannon(avg_take_distribution, experimental_reference, axis = -1) \n",
    "hel = hellinger(avg_take_distribution, experimental_reference)"
   ]
  },
  {
   "cell_type": "code",
   "execution_count": 11,
   "id": "d8a6133c",
   "metadata": {},
   "outputs": [],
   "source": [
    "# # saving output data\n",
    "# np.save('./' + GAMEID + '_sd.npy', sd)\n",
    "# np.save('./' + GAMEID + '_js.npy', js)\n",
    "# np.save('./' + GAMEID + '_rmse.npy', rmse)\n",
    "# np.save('./' + GAMEID + '_hel.npy', hel)\n",
    "# np.save('./' + GAMEID + '_beta_array.npy', betas)"
   ]
  },
  {
   "cell_type": "code",
   "execution_count": 12,
   "id": "b174298f",
   "metadata": {},
   "outputs": [],
   "source": []
  }
 ],
 "metadata": {
  "kernelspec": {
   "display_name": "Python [conda env:tomenv]",
   "language": "python",
   "name": "conda-env-tomenv-py"
  },
  "language_info": {
   "codemirror_mode": {
    "name": "ipython",
    "version": 3
   },
   "file_extension": ".py",
   "mimetype": "text/x-python",
   "name": "python",
   "nbconvert_exporter": "python",
   "pygments_lexer": "ipython3",
   "version": "3.9.16"
  }
 },
 "nbformat": 4,
 "nbformat_minor": 5
}
