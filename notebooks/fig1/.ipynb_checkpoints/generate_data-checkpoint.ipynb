{
 "cells": [
  {
   "cell_type": "code",
   "execution_count": 1,
   "id": "ec0c43bb",
   "metadata": {},
   "outputs": [],
   "source": [
    "import sys\n",
    "sys.path.insert(0,'/Users/marcosaponara/Desktop/MY_CENTIPEDE_GAME/CODE/mysrc')"
   ]
  },
  {
   "cell_type": "code",
   "execution_count": 2,
   "id": "750239c2",
   "metadata": {},
   "outputs": [],
   "source": [
    "import numpy as np\n",
    "import matplotlib.pyplot as plt\n",
    "from json import load\n",
    "\n",
    "from itertools import product\n",
    "from tqdm import tqdm\n",
    "\n",
    "from egttools.analytical import PairwiseComparison\n",
    "from egttools.games import Matrix2PlayerGameHolder\n",
    "from egttools.utils import calculate_stationary_distribution\n",
    "from egttools.plotting import draw_invasion_diagram\n",
    "\n",
    "from scipy.spatial.distance import jensenshannon\n",
    "\n",
    "from utils.centipedeGame import CentipedeGame\n",
    "from utils.kStrategy import KStrategy\n",
    "#\n",
    "from utils.kernel import eps_kernel_sym as kernel"
   ]
  },
  {
   "cell_type": "code",
   "execution_count": 3,
   "id": "54d53e5c",
   "metadata": {},
   "outputs": [],
   "source": [
    "with open('/Users/marcosaponara/Desktop/MY_CENTIPEDE_GAME/CODE/mysrc/data/data.json') as f:\n",
    "    data = load(f)"
   ]
  },
  {
   "cell_type": "code",
   "execution_count": 4,
   "id": "979de96e",
   "metadata": {},
   "outputs": [],
   "source": [
    "GAMEID = 'icg6'"
   ]
  },
  {
   "cell_type": "code",
   "execution_count": 5,
   "id": "64ff9269",
   "metadata": {},
   "outputs": [],
   "source": [
    "icgdata = data['data'][GAMEID]\n",
    "\n",
    "nb_steps = icgdata['nb_steps']\n",
    "payoffs_pl1 = np.array(icgdata['payoffs_pl1'], dtype = float)\n",
    "payoffs_pl2 = np.array(icgdata['payoffs_pl2'], dtype = float)\n",
    "experimental_reference = np.array(icgdata['experimental_reference'], dtype = float)"
   ]
  },
  {
   "cell_type": "code",
   "execution_count": 6,
   "id": "5d40dae4",
   "metadata": {},
   "outputs": [],
   "source": [
    "nb_k_levels = nb_steps + 1\n",
    "k_levels = np.arange(nb_k_levels)"
   ]
  },
  {
   "cell_type": "code",
   "execution_count": 7,
   "id": "8c1ae47e",
   "metadata": {},
   "outputs": [],
   "source": [
    "start = np.zeros(nb_steps+2, dtype = float)\n",
    "\n",
    "start[-1] = 1.\n",
    "start[nb_steps//2] = 1.\n",
    "\n",
    "start_arrays = np.array([\n",
    "                        start,\n",
    "                        ], dtype = float)\n",
    "\n",
    "start_k_pairs = list(product(start_arrays, k_levels))\n",
    "nb_strategies = len(start_k_pairs)"
   ]
  },
  {
   "cell_type": "code",
   "execution_count": 8,
   "id": "5a7169c1",
   "metadata": {},
   "outputs": [],
   "source": [
    "# Parameters\n",
    "Z = 1000 # population size\n",
    "\n",
    "nb_datapoints = 51\n",
    "nb_eps_datapoints = nb_datapoints\n",
    "nb_beta_datapoints = nb_datapoints\n",
    "\n",
    "epsilons = np.linspace(0., .11, nb_eps_datapoints)\n",
    "betas = np.logspace(-2., 2., nb_beta_datapoints)\n",
    "\n",
    "gamma = 0."
   ]
  },
  {
   "cell_type": "code",
   "execution_count": 9,
   "id": "04cc2781",
   "metadata": {},
   "outputs": [
    {
     "name": "stderr",
     "output_type": "stream",
     "text": [
      "  0%|                                                    | 0/51 [00:00<?, ?it/s]/Users/marcosaponara/opt/anaconda3/envs/tomenv/lib/python3.9/site-packages/egttools/utils.py:214: RuntimeWarning: Some of the entries in the transition matrix are close to 1 (with a tolerance of 1e-11). This could result in more than one eigenvalue of magnitute 1 (the Markov Chain is degenerate), so please be careful when analysing the results.\n",
      "  warn(\n",
      "100%|███████████████████████████████████████████| 51/51 [04:14<00:00,  5.00s/it]\n"
     ]
    }
   ],
   "source": [
    "avg_take_distribution = np.zeros((nb_eps_datapoints, nb_beta_datapoints, nb_steps+1), \n",
    "                                 dtype = float)\n",
    "\n",
    "for j, epsilon in enumerate(tqdm(epsilons)):\n",
    "    for w, beta in enumerate(betas):\n",
    "        ker = kernel(nb_steps, gamma, epsilon)\n",
    "        strategy = KStrategy(ker)\n",
    "\n",
    "        strategies = []\n",
    "        for pair in start_k_pairs:\n",
    "            start, k = pair\n",
    "            strategies.append(strategy.calculate_mixed_strategy(start = start, k = k))\n",
    "        strategies = np.array(strategies)\n",
    "\n",
    "        cg = CentipedeGame(payoffs_pl1, payoffs_pl2, strategies)\n",
    "        game = Matrix2PlayerGameHolder(nb_strategies, cg.payoffs())\n",
    "\n",
    "        evolver = PairwiseComparison(population_size=Z, game=game)\n",
    "        transition_matrix, _ = evolver.calculate_transition_and_fixation_matrix_sml(beta)\n",
    "        sd = calculate_stationary_distribution(transition_matrix.transpose())\n",
    "\n",
    "        avg_take_distribution[j,w,:] = sd @ (sd @ cg.get_take_distributions())"
   ]
  },
  {
   "cell_type": "code",
   "execution_count": 10,
   "id": "74169a9a",
   "metadata": {},
   "outputs": [],
   "source": [
    "js = jensenshannon(avg_take_distribution, experimental_reference, axis = -1)"
   ]
  },
  {
   "cell_type": "code",
   "execution_count": 11,
   "id": "f856453b",
   "metadata": {},
   "outputs": [],
   "source": [
    "# saving output data\n",
    "np.save('./' + GAMEID + '_js_grid.npy', js)\n",
    "np.save('./' + GAMEID + '_beta_array.npy', betas)\n",
    "np.save('./' + GAMEID + '_eps_array.npy', epsilons)"
   ]
  },
  {
   "cell_type": "code",
   "execution_count": null,
   "id": "ab5cf168",
   "metadata": {},
   "outputs": [],
   "source": []
  }
 ],
 "metadata": {
  "kernelspec": {
   "display_name": "Python [conda env:tomenv]",
   "language": "python",
   "name": "conda-env-tomenv-py"
  },
  "language_info": {
   "codemirror_mode": {
    "name": "ipython",
    "version": 3
   },
   "file_extension": ".py",
   "mimetype": "text/x-python",
   "name": "python",
   "nbconvert_exporter": "python",
   "pygments_lexer": "ipython3",
   "version": "3.9.16"
  }
 },
 "nbformat": 4,
 "nbformat_minor": 5
}
